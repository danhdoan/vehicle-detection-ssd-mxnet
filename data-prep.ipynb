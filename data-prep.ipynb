{
 "cells": [
  {
   "cell_type": "code",
   "execution_count": 1,
   "metadata": {},
   "outputs": [],
   "source": [
    "import os\n",
    "import glob\n",
    "import time\n",
    "\n",
    "import cv2 as cv\n",
    "\n",
    "import xml.etree.cElementTree as ET"
   ]
  },
  {
   "cell_type": "code",
   "execution_count": 2,
   "metadata": {},
   "outputs": [],
   "source": [
    "from altusi.utils.logger import *"
   ]
  },
  {
   "cell_type": "code",
   "execution_count": 3,
   "metadata": {},
   "outputs": [],
   "source": [
    "VOC2018 = '/home/brian/VOCdevkit/VOC2018/'"
   ]
  },
  {
   "cell_type": "markdown",
   "metadata": {},
   "source": [
    "## 1. Check XML and Image files"
   ]
  },
  {
   "cell_type": "code",
   "execution_count": 4,
   "metadata": {},
   "outputs": [
    {
     "name": "stdout",
     "output_type": "stream",
     "text": [
      "[\u001b[32m2019-08-26 20:02:12\u001b[0m] \u001b[1m\u001b[34m[INFO] \u001b[0m no. xml files: 7310\n"
     ]
    }
   ],
   "source": [
    "xml_fnames = glob.glob(f'{VOC2018}/Annotations/*.xml')\n",
    "\n",
    "LOG(INFO, 'no. xml files:', len(xml_fnames))"
   ]
  },
  {
   "cell_type": "code",
   "execution_count": 5,
   "metadata": {},
   "outputs": [
    {
     "name": "stdout",
     "output_type": "stream",
     "text": [
      "[\u001b[32m2019-08-26 20:02:12\u001b[0m] \u001b[1m\u001b[34m[INFO] \u001b[0m no. image files: 7310\n"
     ]
    }
   ],
   "source": [
    "image_fnames = glob.glob(f'{VOC2018}/JPEGImages/*.jpg')\n",
    "\n",
    "LOG(INFO, 'no. image files:', len(image_fnames))"
   ]
  },
  {
   "cell_type": "code",
   "execution_count": 6,
   "metadata": {},
   "outputs": [
    {
     "name": "stdout",
     "output_type": "stream",
     "text": [
      "[\u001b[32m2019-08-26 20:02:53\u001b[0m] \u001b[1m\u001b[34m[INFO] \u001b[0m no. error files: 2190\n",
      "[\u001b[32m2019-08-26 20:02:53\u001b[0m] \u001b[1m\u001b[34m[INFO] \u001b[0m remaining: 5120\n"
     ]
    }
   ],
   "source": [
    "_xml_fnames = []\n",
    "\n",
    "cnt_error = 0\n",
    "for i, xml_fname in enumerate(xml_fnames):\n",
    "    try:\n",
    "        root = ET.parse(xml_fname)\n",
    "        \n",
    "        _xml_fnames.append(xml_fname)\n",
    "        \n",
    "        _, fname = os.path.split(xml_fname)\n",
    "        fname, ext = os.path.splitext(fname)\n",
    "        \n",
    "        img = cv.imread(f'/home/brian/VOCdevkit/VOC2018/JPEGImages/{fname}.jpg')\n",
    "        if img is None:\n",
    "            print(xml_fname)\n",
    "        \n",
    "    except:\n",
    "        cnt_error += 1\n",
    "        pass\n",
    "    \n",
    "LOG(INFO, 'no. error files:', cnt_error)\n",
    "\n",
    "LOG(INFO, 'remaining: {}'.format(len(_xml_fnames)))"
   ]
  },
  {
   "cell_type": "markdown",
   "metadata": {},
   "source": [
    "## 2. Random Shuffle and Split Dataset"
   ]
  },
  {
   "cell_type": "code",
   "execution_count": 7,
   "metadata": {},
   "outputs": [
    {
     "name": "stdout",
     "output_type": "stream",
     "text": [
      "[\u001b[32m2019-08-26 20:02:53\u001b[0m] \u001b[1m\u001b[34m[INFO] \u001b[0m no. trainval: 4096\n",
      "[\u001b[32m2019-08-26 20:02:53\u001b[0m] \u001b[1m\u001b[34m[INFO] \u001b[0m no. test:     1024\n"
     ]
    }
   ],
   "source": [
    "no_fnames = len(_xml_fnames)\n",
    "\n",
    "no_trainval = int(no_fnames * 0.8)\n",
    "no_test = no_fnames - no_trainval\n",
    "\n",
    "LOG(INFO, 'no. trainval:', no_trainval)\n",
    "LOG(INFO, 'no. test:    ', no_test)"
   ]
  },
  {
   "cell_type": "code",
   "execution_count": 8,
   "metadata": {},
   "outputs": [],
   "source": [
    "import numpy as np"
   ]
  },
  {
   "cell_type": "code",
   "execution_count": 9,
   "metadata": {},
   "outputs": [],
   "source": [
    "id_trainval = np.random.choice(no_fnames, no_trainval, replace=False)"
   ]
  },
  {
   "cell_type": "code",
   "execution_count": 10,
   "metadata": {},
   "outputs": [
    {
     "name": "stdout",
     "output_type": "stream",
     "text": [
      "[\u001b[32m2019-08-26 20:02:53\u001b[0m] \u001b[1m\u001b[34m[INFO] \u001b[0m trainval writing done\n"
     ]
    }
   ],
   "source": [
    "id_test = set(range(no_fnames)) - set(id_trainval)\n",
    "\n",
    "with open(f'{VOC2018}/ImageSets/Main/trainval.txt', 'w') as f:\n",
    "    for i in id_trainval:\n",
    "        _, fname = os.path.split(_xml_fnames[i])\n",
    "        fname, ext = os.path.splitext(fname)\n",
    "        f.write(fname + '\\n')\n",
    "        \n",
    "LOG(INFO, 'trainval writing done')"
   ]
  },
  {
   "cell_type": "code",
   "execution_count": 11,
   "metadata": {},
   "outputs": [
    {
     "name": "stdout",
     "output_type": "stream",
     "text": [
      "[\u001b[32m2019-08-26 20:02:53\u001b[0m] \u001b[1m\u001b[34m[INFO] \u001b[0m test writing done\n"
     ]
    }
   ],
   "source": [
    "with open(f'{VOC2018}/ImageSets/Main/test.txt', 'w') as f:\n",
    "    for i in id_test:\n",
    "        _, fname = os.path.split(_xml_fnames[i])\n",
    "        fname, ext = os.path.splitext(fname)\n",
    "        f.write(fname + '\\n')\n",
    "        \n",
    "LOG(INFO, 'test writing done')"
   ]
  },
  {
   "cell_type": "code",
   "execution_count": null,
   "metadata": {},
   "outputs": [],
   "source": []
  }
 ],
 "metadata": {
  "kernelspec": {
   "display_name": "Python 3",
   "language": "python",
   "name": "python3"
  },
  "language_info": {
   "codemirror_mode": {
    "name": "ipython",
    "version": 3
   },
   "file_extension": ".py",
   "mimetype": "text/x-python",
   "name": "python",
   "nbconvert_exporter": "python",
   "pygments_lexer": "ipython3",
   "version": "3.6.8"
  }
 },
 "nbformat": 4,
 "nbformat_minor": 2
}

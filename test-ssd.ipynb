{
 "cells": [
  {
   "cell_type": "markdown",
   "metadata": {},
   "source": [
    "## 1. Import Necessary Modules"
   ]
  },
  {
   "cell_type": "code",
   "execution_count": 1,
   "metadata": {},
   "outputs": [],
   "source": [
    "import os\n",
    "import time\n",
    "\n",
    "%matplotlib inline\n",
    "import matplotlib.pyplot as plt"
   ]
  },
  {
   "cell_type": "code",
   "execution_count": 2,
   "metadata": {},
   "outputs": [],
   "source": [
    "from altusi.utils.logger import *\n",
    "import altusi.utils.visualizer as vis\n",
    "from altusi.utils import misc"
   ]
  },
  {
   "cell_type": "code",
   "execution_count": 3,
   "metadata": {},
   "outputs": [],
   "source": [
    "import numpy as np\n",
    "import cv2 as cv\n",
    "\n",
    "import mxnet as mx\n",
    "import gluoncv"
   ]
  },
  {
   "cell_type": "markdown",
   "metadata": {},
   "source": [
    "## 2. Load SSD Network"
   ]
  },
  {
   "cell_type": "code",
   "execution_count": 4,
   "metadata": {},
   "outputs": [
    {
     "data": {
      "text/plain": [
       "['ssd_300_vgg16_atrous_voc',\n",
       " 'ssd_300_vgg16_atrous_coco',\n",
       " 'ssd_300_vgg16_atrous_custom',\n",
       " 'ssd_512_vgg16_atrous_voc',\n",
       " 'ssd_512_vgg16_atrous_coco',\n",
       " 'ssd_512_vgg16_atrous_custom',\n",
       " 'ssd_512_resnet18_v1_voc',\n",
       " 'ssd_512_resnet18_v1_coco',\n",
       " 'ssd_512_resnet50_v1_voc',\n",
       " 'ssd_512_resnet50_v1_coco',\n",
       " 'ssd_512_resnet50_v1_custom',\n",
       " 'ssd_512_resnet101_v2_voc',\n",
       " 'ssd_512_resnet152_v2_voc',\n",
       " 'ssd_512_mobilenet1.0_voc',\n",
       " 'ssd_512_mobilenet1.0_coco',\n",
       " 'ssd_512_mobilenet1.0_custom',\n",
       " 'ssd_300_vgg16_atrous_voc_int8',\n",
       " 'ssd_512_mobilenet1.0_voc_int8',\n",
       " 'ssd_512_resnet50_v1_voc_int8',\n",
       " 'ssd_512_vgg16_atrous_voc_int8']"
      ]
     },
     "execution_count": 4,
     "metadata": {},
     "output_type": "execute_result"
    }
   ],
   "source": [
    "list(filter(lambda x: x.startswith('ssd'), gluoncv.model_zoo.get_model_list()))"
   ]
  },
  {
   "cell_type": "code",
   "execution_count": 5,
   "metadata": {},
   "outputs": [
    {
     "name": "stdout",
     "output_type": "stream",
     "text": [
      "[\u001b[32m2019-08-28 10:24:22\u001b[0m] \u001b[1m\u001b[34m[INFO] \u001b[0m Device in Use: gpu(0)\n"
     ]
    }
   ],
   "source": [
    "ctx = mx.context.gpu(0) if mx.context.num_gpus() else context.cpu()\n",
    "\n",
    "LOG(INFO, 'Device in Use:', ctx)"
   ]
  },
  {
   "cell_type": "code",
   "execution_count": 6,
   "metadata": {},
   "outputs": [],
   "source": [
    "net = gluoncv.model_zoo.get_model('ssd_300_vgg16_atrous_voc', ctx=ctx)\n",
    "\n",
    "net.load_parameters('ssd_300_vgg16_atrous_voc_best.params')\n",
    "\n",
    "net.reset_class(classes=['person'], reuse_weights=['person'])"
   ]
  },
  {
   "cell_type": "code",
   "execution_count": 7,
   "metadata": {},
   "outputs": [],
   "source": [
    "net.collect_params().reset_ctx(ctx)"
   ]
  },
  {
   "cell_type": "code",
   "execution_count": 8,
   "metadata": {},
   "outputs": [],
   "source": [
    "L = list(net.collect_params().values())"
   ]
  },
  {
   "cell_type": "code",
   "execution_count": 9,
   "metadata": {
    "scrolled": true
   },
   "outputs": [],
   "source": [
    "X = mx.nd.random.uniform(shape=(1, 3, 300, 300), ctx=ctx)\n",
    "\n",
    "cids, scores, bboxes = net(X)"
   ]
  },
  {
   "cell_type": "markdown",
   "metadata": {},
   "source": [
    "## 3. Test with Images"
   ]
  },
  {
   "cell_type": "code",
   "execution_count": 10,
   "metadata": {},
   "outputs": [],
   "source": [
    "def filter_bboxes(bboxes, scores, class_ids, thresh=0.5):\n",
    "    ids = np.where(scores.asnumpy().reshape(-1) > thresh)[0]\n",
    "\n",
    "    if len(ids):\n",
    "        return bboxes[ids], scores[ids], class_ids[ids]\n",
    "    else:\n",
    "        return None, None, None\n",
    "\n",
    "\n",
    "def ssd_predict(net, image, ctx, thresh=0.5, img_dim=300):\n",
    "    x, img = gluoncv.data.transforms.presets.ssd.transform_test(mx.nd.array(image), short=img_dim)\n",
    "    x = x.as_in_context(ctx)\n",
    "\n",
    "    class_ids, scores, bboxes = net(x)\n",
    "\n",
    "    if len(bboxes[0]) > 0:\n",
    "        bboxes, scores, class_ids = filter_bboxes(bboxes[0], scores[0], class_ids[0], thresh)\n",
    "\n",
    "        if bboxes is not None:\n",
    "            classes = [net.classes[int(idx.asscalar())] for idx in class_ids]\n",
    "\n",
    "    return class_ids, scores, bboxes, img"
   ]
  },
  {
   "cell_type": "code",
   "execution_count": 11,
   "metadata": {},
   "outputs": [],
   "source": [
    "def rescale_bboxes(bboxes, dims, new_dims):\n",
    "    H, W = dims\n",
    "    _H, _W = new_dims\n",
    "    \n",
    "    _bboxes = []\n",
    "    for bbox in bboxes:\n",
    "        bbox = bbox.asnumpy()\n",
    "        bbox = bbox / np.array([W, H, W, H]) * np.array([_W, _H, _W, _H])\n",
    "        _bboxes.append(bbox)\n",
    "        \n",
    "    return _bboxes"
   ]
  },
  {
   "cell_type": "code",
   "execution_count": 71,
   "metadata": {},
   "outputs": [
    {
     "data": {
      "text/plain": [
       "(1080, 1875, 3)"
      ]
     },
     "execution_count": 71,
     "metadata": {},
     "output_type": "execute_result"
    }
   ],
   "source": [
    "image_path = '/home/brian/Pictures/annie000.jpeg'\n",
    "image_path = '/home/brian/Pictures/annie001.jpeg'\n",
    "image_path = '/home/brian/Pictures/human000.jpg'\n",
    "image_path = '/home/brian/Pictures/coopmart000.png'\n",
    "image_path = '/home/brian/Pictures/coopmart001.png'\n",
    "image_path = '/home/brian/Pictures/coopmart002.png'\n",
    "# image_path = '/home/brian/Pictures/face-015.jpg'\n",
    "# image_path = '/home/brian/Pictures/rdf010.png'\n",
    "# image_path = '/home/brian/Pictures/sanha000.png'\n",
    "\n",
    "image_fname, ext = misc.get_fname(image_path)\n",
    "image = cv.imread(image_path)\n",
    "\n",
    "image.shape"
   ]
  },
  {
   "cell_type": "code",
   "execution_count": 72,
   "metadata": {},
   "outputs": [],
   "source": [
    "cids, scores, bboxes, img = ssd_predict(net, image, ctx, thresh=0.5)"
   ]
  },
  {
   "cell_type": "code",
   "execution_count": 73,
   "metadata": {},
   "outputs": [],
   "source": [
    "rs_bboxes = rescale_bboxes(bboxes, img.shape[:2], image.shape[:2])"
   ]
  },
  {
   "cell_type": "code",
   "execution_count": 74,
   "metadata": {},
   "outputs": [],
   "source": [
    "out_image = vis.drawObjects(image, rs_bboxes, \n",
    "                            color=vis.COLOR_RED_LIGHT,\n",
    "                           thickness=4)"
   ]
  },
  {
   "cell_type": "code",
   "execution_count": 75,
   "metadata": {},
   "outputs": [
    {
     "data": {
      "text/plain": [
       "True"
      ]
     },
     "execution_count": 75,
     "metadata": {},
     "output_type": "execute_result"
    }
   ],
   "source": [
    "cv.imwrite(f'images/{image_fname}{ext}', out_image)"
   ]
  },
  {
   "cell_type": "code",
   "execution_count": null,
   "metadata": {},
   "outputs": [],
   "source": []
  }
 ],
 "metadata": {
  "kernelspec": {
   "display_name": "Python 3",
   "language": "python",
   "name": "python3"
  },
  "language_info": {
   "codemirror_mode": {
    "name": "ipython",
    "version": 3
   },
   "file_extension": ".py",
   "mimetype": "text/x-python",
   "name": "python",
   "nbconvert_exporter": "python",
   "pygments_lexer": "ipython3",
   "version": "3.6.8"
  }
 },
 "nbformat": 4,
 "nbformat_minor": 2
}
